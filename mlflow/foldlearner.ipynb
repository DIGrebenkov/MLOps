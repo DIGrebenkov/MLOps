{
 "cells": [
  {
   "cell_type": "code",
   "execution_count": 1,
   "id": "553b9a1e",
   "metadata": {},
   "outputs": [
    {
     "name": "stdout",
     "output_type": "stream",
     "text": [
      "WARNING:tensorflow:From c:\\Users\\Enfi\\AppData\\Local\\Programs\\Python\\Python310\\lib\\site-packages\\keras\\src\\losses.py:2976: The name tf.losses.sparse_softmax_cross_entropy is deprecated. Please use tf.compat.v1.losses.sparse_softmax_cross_entropy instead.\n",
      "\n"
     ]
    }
   ],
   "source": [
    "import pandas as pd\n",
    "import regex as re\n",
    "\n",
    "from sklearn.model_selection import train_test_split\n",
    "from sklearn.model_selection import KFold\n",
    "\n",
    "import ahocorasick\n",
    "\n",
    "import torch\n",
    "from transformers import AutoTokenizer, MT5ForConditionalGeneration\n",
    "from torch.utils.data import DataLoader, Dataset\n",
    "from torch.optim import AdamW\n",
    "\n",
    "from tqdm import tqdm\n",
    "import matplotlib.pyplot as plt"
   ]
  },
  {
   "cell_type": "code",
   "execution_count": 2,
   "id": "f2cd2a22",
   "metadata": {},
   "outputs": [],
   "source": [
    "# CONSTANTS:\n",
    "\n",
    "SEP_TOKEN = '▁<extra_id_0>'\n",
    "INPUT_PREFIX = ''\n",
    "\n",
    "NUM_OF_SPLITS = 20\n",
    "\n",
    "ATTACHMENT_TOKEN = '▁<extra_id_1>'\n",
    "LABEL_PREFIX_TOKEN = ATTACHMENT_TOKEN\n",
    "\n",
    "USED_MODEL_NAME = 'cointegrated/rut5-small'\n",
    "\n",
    "SEQ_MAX_LENGTH = 150\n",
    "ANSWER_MAX_LENGTH = 150\n",
    "BATCH_SIZE = 8\n",
    "EVAL_BATCH_SIZE = 64\n",
    "\n",
    "ENABLE_LABEL_FIX = True\n",
    "\n",
    "LOCAL_NUM_EPOCHS = 1"
   ]
  },
  {
   "cell_type": "code",
   "execution_count": null,
   "id": "328190fa",
   "metadata": {},
   "outputs": [
    {
     "name": "stderr",
     "output_type": "stream",
     "text": [
      "You are using the default legacy behaviour of the <class 'transformers.models.t5.tokenization_t5.T5Tokenizer'>. This is expected, and simply means that the `legacy` (previous) behavior will be used so nothing changes for you. If you want to use the new behaviour, set `legacy=False`. This should only be set if you understand what it means, and thoroughly read the reason why this was added as explained in https://github.com/huggingface/transformers/pull/24565\n",
      "c:\\Users\\Enfi\\AppData\\Local\\Programs\\Python\\Python310\\lib\\site-packages\\transformers\\convert_slow_tokenizer.py:561: UserWarning: The sentencepiece tokenizer that you are converting to a fast tokenizer uses the byte fallback option which is not implemented in the fast tokenizers. In practice this means that the fast version of the tokenizer can produce unknown tokens whereas the sentencepiece version would have converted these unknown tokens into a sequence of byte tokens matching the original piece of text.\n",
      "  warnings.warn(\n"
     ]
    },
    {
     "name": "stdout",
     "output_type": "stream",
     "text": [
      "cuda:0\n"
     ]
    }
   ],
   "source": [
    "tokenizer = AutoTokenizer.from_pretrained (USED_MODEL_NAME)\n",
    "\n",
    "device = torch.device ('cuda' if torch.cuda.is_available () else 'cpu')\n",
    "\n",
    "model = MT5ForConditionalGeneration.from_pretrained (USED_MODEL_NAME)\n",
    "\n",
    "model.to (device)\n",
    "print (model.device)\n",
    "\n",
    "optimizer = AdamW (filter (lambda p: p.requires_grad, model.parameters ()), lr = 5e-5, weight_decay = 0.01)\n",
    "\n",
    "metrics = {'train_loss': [], 'val_loss': [], 'precision': [], 'recall': [], 'f1_score': []}"
   ]
  },
  {
   "cell_type": "code",
   "execution_count": 4,
   "id": "f6da5da0",
   "metadata": {},
   "outputs": [],
   "source": [
    "\n",
    "# FUNCTIONS:\n",
    "\n",
    "def split_text (text, segments, delimiters = ['...', '.', '?!', '?', '!']):\n",
    "\n",
    "    delimiters_pattern = '|'.join (map (re.escape, delimiters))\n",
    "    \n",
    "    paragraphs = re.split (f'(?<=\\n[ ]*)', text)\n",
    "    \n",
    "    sentences_with_segments = []\n",
    "    \n",
    "    current_start_index = 0\n",
    "\n",
    "    for paragraph in paragraphs:\n",
    "\n",
    "        sentences = re.split (f'(?<=[{delimiters_pattern}] )(?=[A-ZА-ЯЁ])', paragraph)#.strip ())\n",
    "\n",
    "        for sentence in sentences:\n",
    "\n",
    "            start_index = current_start_index\n",
    "            end_index = start_index + len (sentence)\n",
    "\n",
    "            matched_segments = [\n",
    "                text [start: end] for start, end in segments if start >= start_index and end <= end_index\n",
    "            ]\n",
    "            sentences_with_segments.append ((sentence, matched_segments))\n",
    "\n",
    "            current_start_index = end_index\n",
    "    \n",
    "    return sentences_with_segments\n",
    "\n",
    "def create_parallels (data_lst, labels_lst, with_dict = False):\n",
    "    parallel_text = []\n",
    "    parallel_label = []\n",
    "    for i in range (len (data_lst)):\n",
    "        text = data_lst [i]\n",
    "        segments = labels_lst [i]\n",
    "        splitted = split_text (text, segments)\n",
    "        for sentence, terms in splitted:\n",
    "            parallel_text.append (INPUT_PREFIX + sentence)\n",
    "\n",
    "            constructed_label = ''\n",
    "            if with_dict:\n",
    "                constructed_label += LABEL_PREFIX_TOKEN\n",
    "                for term in terms:\n",
    "                    constructed_label += SEP_TOKEN + term.strip ()\n",
    "            else:\n",
    "                for term in terms:\n",
    "                    constructed_label += term.strip () + SEP_TOKEN\n",
    "\n",
    "            parallel_label.append (constructed_label)\n",
    "    return parallel_text, parallel_label\n",
    "\n",
    "\n",
    "def label_constructor (labels):\n",
    "    res = []\n",
    "    for label in labels:\n",
    "        one_label = []\n",
    "        for start, end, cls in label:\n",
    "            one_label.append ([start, end])\n",
    "        res.append (one_label)\n",
    "    return res\n",
    "\n",
    "\n",
    "def one_finder (text, phrases):\n",
    "\n",
    "    if len (phrases) == 1 and '' in phrases:\n",
    "        return []\n",
    "\n",
    "    A = ahocorasick.Automaton ()\n",
    "    \n",
    "    for idx, phrase in enumerate (phrases):\n",
    "        A.add_word (phrase, (idx, phrase))\n",
    "    \n",
    "    A.make_automaton ()\n",
    "    \n",
    "    found = []\n",
    "    for end_index, (idx, phrase) in A.iter (text):\n",
    "        start_index = end_index - len (phrase) + 1\n",
    "\n",
    "        if start_index > 0 and text [start_index - 1].isalpha ():\n",
    "            continue\n",
    "        if end_index + 1 < len (text) and text [end_index + 1].isalpha ():\n",
    "            continue\n",
    "\n",
    "        found.append ((start_index, end_index + 1, phrase))\n",
    "    \n",
    "    return found\n",
    "\n",
    "def make_attachment (text, dictionary_terms):\n",
    "    found = one_finder (text, dictionary_terms)\n",
    "    found_terms = [item [2] for item in found]\n",
    "    res = text + ATTACHMENT_TOKEN\n",
    "    for term in found_terms:\n",
    "        res += SEP_TOKEN + term\n",
    "    return res\n",
    "\n",
    "def attach_dictionary_foundings (texts, dictionary_terms):\n",
    "    res_texts = []\n",
    "    for text in tqdm (texts):\n",
    "        res_texts.append (make_attachment (text, dictionary_terms))\n",
    "    return res_texts\n",
    "\n",
    "def replace_padding (labels):\n",
    "    for i in range (0, len (labels ['input_ids'])):\n",
    "        labels ['input_ids'] [i] = torch.tensor ([labl if labl != 0 else - 100 for labl in labels ['input_ids'] [i]])\n",
    "\n",
    "    return labels\n",
    "\n",
    "class Seq2SeqDataset (Dataset):\n",
    "    def __init__ (self, encodings, labels):\n",
    "        self.encodings = encodings\n",
    "        self.labels = labels\n",
    "\n",
    "    def __getitem__ (self, idx):\n",
    "        return {\n",
    "            'input_ids': self.encodings ['input_ids'] [idx],\n",
    "            'attention_mask': self.encodings ['attention_mask'] [idx],\n",
    "            'labels': self.labels ['input_ids'] [idx]\n",
    "        }\n",
    "\n",
    "    def __len__ (self):\n",
    "        return len (self.encodings ['input_ids'])\n",
    "\n",
    "def get_set (tensor, ground_truth = True, tokenizer = tokenizer):\n",
    "\n",
    "    separator: str\n",
    "    if SEP_TOKEN == '▁<extra_id_0>': separator = '<extra_id_0>'\n",
    "    else: separator = SEP_TOKEN\n",
    "\n",
    "    res: set\n",
    "\n",
    "    if ground_truth:\n",
    "        eos_idx = (tensor == 1).nonzero ()\n",
    "        if eos_idx.numel () > 0:\n",
    "            eos_idx = int (eos_idx [0] [0])\n",
    "        else:\n",
    "            eos_idx = len (tensor)\n",
    "        seq = tensor [:eos_idx]\n",
    "    \n",
    "    else:\n",
    "        seq = tensor [tensor != 0]\n",
    "        seq = seq [seq != - 100]\n",
    "        seq = seq [seq != 1]\n",
    "    \n",
    "    txt = tokenizer.decode (seq)\n",
    "    res = set ([item.strip () for item in txt.split (separator)])\n",
    "\n",
    "    if len (res) > 1:\n",
    "        res -= set ([''])\n",
    "    res -= set ([LABEL_PREFIX_TOKEN [1:]])\n",
    "    if len (res) == 0: res |= set ([''])\n",
    "\n",
    "    return res\n",
    "\n",
    "\n",
    "def sanity_check (preds, labels, to_print = False):\n",
    "\n",
    "    tps_sum = 0\n",
    "    fps_sum = 0\n",
    "    fns_sum = 0 \n",
    "\n",
    "    for i in range (len (labels)):\n",
    "        predicted_set = get_set (preds [i], ground_truth = False)\n",
    "        true_set = get_set (labels [i])\n",
    "\n",
    "        if to_print: print (f'True: {true_set}\\nPred: {predicted_set}')\n",
    "\n",
    "        tps_sum += len (true_set & predicted_set)\n",
    "        fps_sum += len (predicted_set - true_set)\n",
    "        fns_sum += len (true_set - predicted_set)\n",
    "\n",
    "    precision = tps_sum / (tps_sum + fps_sum) if (tps_sum + fps_sum) > 0 else 0\n",
    "    recall = tps_sum / (tps_sum + fns_sum) if (tps_sum + fns_sum) > 0 else 0\n",
    "    f1_score = 2 * (precision * recall) / (precision + recall) if (precision + recall) > 0 else 0\n",
    "\n",
    "    return precision, recall, f1_score"
   ]
  },
  {
   "cell_type": "code",
   "execution_count": 5,
   "id": "b417c34f",
   "metadata": {},
   "outputs": [],
   "source": [
    "df = pd.read_json ('train_t1_v1.jsonl', lines = True)\n",
    "df.drop (columns = ['id', 'keywords'], inplace = True)\n",
    "#print (df.head ())\n",
    "#print ()\n",
    "df_2 = pd.read_json ('test1_t12_full_v2.jsonl', lines = True)\n",
    "df_2 = df_2 [['text', 'label']]\n",
    "#print (df_2.head ())\n",
    "#print ()\n",
    "\n",
    "val_data_txt, test_data_txt, val_labels_txt, test_labels_txt = train_test_split (df_2 ['text'], df_2 ['label'], test_size = 0.5, random_state = 14)\n",
    "\n",
    "train_data_lst = df ['text'].tolist ()\n",
    "train_labels_lst = df ['label'].tolist ()\n",
    "train_parallel_text, train_parallel_labels = create_parallels (train_data_lst, train_labels_lst)\n",
    "\n",
    "val_data_lst = val_data_txt.tolist ()\n",
    "val_labels_lst = label_constructor (val_labels_txt)\n",
    "val_parallel_text, val_parallel_labels = create_parallels (val_data_lst, val_labels_lst)\n",
    "\n",
    "test_data_lst = test_data_txt.tolist ()\n",
    "test_labels_lst = label_constructor (test_labels_txt)\n",
    "test_parallel_text, test_parallel_labels = create_parallels (test_data_lst, test_labels_lst)\n",
    "\n",
    "all_train_terms = set ()\n",
    "for line in train_parallel_labels:\n",
    "    all_train_terms |= set (line.split (SEP_TOKEN))\n",
    "all_train_terms -= set ([''])\n",
    "all_train_terms -= set ([LABEL_PREFIX_TOKEN])\n",
    "#print (f'Уникальных терминов во всём тренировочном наборе: {len (all_train_terms)}.\\n')\n",
    "\n",
    "val_parallel_text_new = val_parallel_text#attach_dictionary_foundings (val_parallel_text, all_train_terms)\n",
    "test_parallel_text_new = test_parallel_text#attach_dictionary_foundings (test_parallel_text, all_train_terms)\n",
    "\n",
    "val_data = tokenizer (val_parallel_text_new, padding = 'max_length', truncation = True, max_length = SEQ_MAX_LENGTH, return_tensors = 'pt')\n",
    "val_labels = tokenizer (val_parallel_labels, padding = 'max_length', truncation = True, max_length = ANSWER_MAX_LENGTH, return_tensors = 'pt')\n",
    "\n",
    "test_data = tokenizer (test_parallel_text_new, padding = 'max_length', truncation = True, max_length = SEQ_MAX_LENGTH, return_tensors = 'pt')\n",
    "test_labels = tokenizer (test_parallel_labels, padding = 'max_length', truncation = True, max_length = ANSWER_MAX_LENGTH, return_tensors = 'pt')\n",
    "\n",
    "if ENABLE_LABEL_FIX:\n",
    "    \n",
    "    replaced = replace_padding (val_labels)\n",
    "    val_labels = replaced\n",
    "\n",
    "    replaced = replace_padding (test_labels)\n",
    "    test_labels = replaced\n",
    "\n",
    "val_dataset = Seq2SeqDataset (val_data, val_labels)\n",
    "test_dataset = Seq2SeqDataset (test_data, test_labels)\n",
    "\n",
    "val_loader = DataLoader (val_dataset, batch_size = EVAL_BATCH_SIZE)\n",
    "test_loader = DataLoader (test_dataset, batch_size = EVAL_BATCH_SIZE)"
   ]
  },
  {
   "cell_type": "code",
   "execution_count": 6,
   "id": "ee808cf8",
   "metadata": {},
   "outputs": [],
   "source": [
    "num_passed_epochs = 0\n",
    "view_at_loss = True"
   ]
  },
  {
   "cell_type": "code",
   "execution_count": 7,
   "id": "142c9422",
   "metadata": {},
   "outputs": [],
   "source": [
    "kf = KFold (n_splits = NUM_OF_SPLITS if NUM_OF_SPLITS > 1 else 2)\n",
    "\n",
    "data = df ['text']\n",
    "labels = df ['label']\n",
    "\n",
    "test_indices = list (kf.split (data))"
   ]
  },
  {
   "cell_type": "code",
   "execution_count": 8,
   "id": "89c17f27",
   "metadata": {},
   "outputs": [],
   "source": [
    "import numpy as np\n",
    "\n",
    "if NUM_OF_SPLITS == 1:\n",
    "    test_indices = [(0, np.concatenate ([test_indices [0] [1], test_indices [0] [0]]))]\n"
   ]
  },
  {
   "cell_type": "code",
   "execution_count": 9,
   "id": "fbb1a2d6",
   "metadata": {},
   "outputs": [
    {
     "name": "stderr",
     "output_type": "stream",
     "text": [
      "2025/05/27 22:00:29 WARNING mlflow.utils.git_utils: Failed to import Git (the Git executable is probably not on your PATH), so Git SHA is not available. Error: Failed to initialize: Bad git executable.\n",
      "The git executable must be specified in one of the following ways:\n",
      "    - be included in your $PATH\n",
      "    - be set via $GIT_PYTHON_GIT_EXECUTABLE\n",
      "    - explicitly set via git.refresh(<full-path-to-git-executable>)\n",
      "\n",
      "All git commands will error until this is rectified.\n",
      "\n",
      "This initial message can be silenced or aggravated in the future by setting the\n",
      "$GIT_PYTHON_REFRESH environment variable. Use one of the following values:\n",
      "    - quiet|q|silence|s|silent|none|n|0: for no message or exception\n",
      "    - warn|w|warning|log|l|1: for a warning message (logging level CRITICAL, displayed by default)\n",
      "    - error|e|exception|raise|r|2: for a raised exception\n",
      "\n",
      "Example:\n",
      "    export GIT_PYTHON_REFRESH=quiet\n",
      "\n",
      "  0%|          | 0/30 [00:00<?, ?it/s]Passing a tuple of `past_key_values` is deprecated and will be removed in Transformers v4.48.0. You should pass an instance of `EncoderDecoderCache` instead, e.g. `past_key_values=EncoderDecoderCache.from_legacy_cache(past_key_values)`.\n",
      "100%|██████████| 30/30 [00:04<00:00,  6.93it/s]\n"
     ]
    },
    {
     "name": "stdout",
     "output_type": "stream",
     "text": [
      "Epoch 1 / 20, Loss: 3.2586, Validation loss: 2.5220, 0.0033613445378151263 / 0.000836470096194061 / 0.0013395847287340924\n"
     ]
    },
    {
     "name": "stderr",
     "output_type": "stream",
     "text": [
      "100%|██████████| 30/30 [00:03<00:00,  7.76it/s]\n"
     ]
    },
    {
     "name": "stdout",
     "output_type": "stream",
     "text": [
      "Epoch 2 / 20, Loss: 2.1831, Validation loss: 2.0740, 0.029216467463479414 / 0.009201171058134672 / 0.013994910941475825\n"
     ]
    },
    {
     "name": "stderr",
     "output_type": "stream",
     "text": [
      "100%|██████████| 32/32 [00:04<00:00,  7.74it/s]\n"
     ]
    },
    {
     "name": "stdout",
     "output_type": "stream",
     "text": [
      "Epoch 3 / 20, Loss: 2.0608, Validation loss: 1.7959, 0.14986853637160386 / 0.07151819322459223 / 0.09682899207248018\n"
     ]
    },
    {
     "name": "stderr",
     "output_type": "stream",
     "text": [
      "100%|██████████| 35/35 [00:04<00:00,  7.94it/s]\n"
     ]
    },
    {
     "name": "stdout",
     "output_type": "stream",
     "text": [
      "Epoch 4 / 20, Loss: 1.8871, Validation loss: 1.5669, 0.2749812171299775 / 0.15307402760351319 / 0.19666845781837722\n"
     ]
    },
    {
     "name": "stderr",
     "output_type": "stream",
     "text": [
      "100%|██████████| 33/33 [00:04<00:00,  7.75it/s]\n"
     ]
    },
    {
     "name": "stdout",
     "output_type": "stream",
     "text": [
      "Epoch 5 / 20, Loss: 1.6849, Validation loss: 1.3596, 0.35110844817255843 / 0.2450857381848599 / 0.2886699507389163\n"
     ]
    },
    {
     "name": "stderr",
     "output_type": "stream",
     "text": [
      "100%|██████████| 23/23 [00:03<00:00,  7.52it/s]\n"
     ]
    },
    {
     "name": "stdout",
     "output_type": "stream",
     "text": [
      "Epoch 6 / 20, Loss: 1.3403, Validation loss: 1.2521, 0.38114517061885483 / 0.27561689669594314 / 0.31990291262135917\n"
     ]
    },
    {
     "name": "stderr",
     "output_type": "stream",
     "text": [
      "100%|██████████| 25/25 [00:03<00:00,  7.82it/s]\n"
     ]
    },
    {
     "name": "stdout",
     "output_type": "stream",
     "text": [
      "Epoch 7 / 20, Loss: 1.2950, Validation loss: 1.1428, 0.3894952251023192 / 0.23881221246340442 / 0.2960850401866736\n"
     ]
    },
    {
     "name": "stderr",
     "output_type": "stream",
     "text": [
      "100%|██████████| 22/22 [00:02<00:00,  7.69it/s]\n"
     ]
    },
    {
     "name": "stdout",
     "output_type": "stream",
     "text": [
      "Epoch 8 / 20, Loss: 1.1922, Validation loss: 1.0891, 0.4171392564587272 / 0.27687160184023424 / 0.33283056812468576\n"
     ]
    },
    {
     "name": "stderr",
     "output_type": "stream",
     "text": [
      "100%|██████████| 21/21 [00:02<00:00,  7.80it/s]\n"
     ]
    },
    {
     "name": "stdout",
     "output_type": "stream",
     "text": [
      "Epoch 9 / 20, Loss: 1.1452, Validation loss: 1.0526, 0.42732376793512167 / 0.2864910079464659 / 0.343014521782674\n"
     ]
    },
    {
     "name": "stderr",
     "output_type": "stream",
     "text": [
      "100%|██████████| 22/22 [00:02<00:00,  7.57it/s]\n"
     ]
    },
    {
     "name": "stdout",
     "output_type": "stream",
     "text": [
      "Epoch 10 / 20, Loss: 1.1428, Validation loss: 1.0386, 0.42305475504322765 / 0.3069845253032204 / 0.35579253514299564\n"
     ]
    },
    {
     "name": "stderr",
     "output_type": "stream",
     "text": [
      "100%|██████████| 19/19 [00:02<00:00,  7.48it/s]\n"
     ]
    },
    {
     "name": "stdout",
     "output_type": "stream",
     "text": [
      "Epoch 11 / 20, Loss: 1.0407, Validation loss: 1.0027, 0.436046511627907 / 0.3136762860727729 / 0.36487472634395524\n"
     ]
    },
    {
     "name": "stderr",
     "output_type": "stream",
     "text": [
      "100%|██████████| 22/22 [00:02<00:00,  7.58it/s]\n"
     ]
    },
    {
     "name": "stdout",
     "output_type": "stream",
     "text": [
      "Epoch 12 / 20, Loss: 1.1876, Validation loss: 0.9935, 0.42422596414991853 / 0.32664157256378085 / 0.3690926275992439\n"
     ]
    },
    {
     "name": "stderr",
     "output_type": "stream",
     "text": [
      "100%|██████████| 21/21 [00:02<00:00,  7.91it/s]\n"
     ]
    },
    {
     "name": "stdout",
     "output_type": "stream",
     "text": [
      "Epoch 13 / 20, Loss: 1.1573, Validation loss: 0.9378, 0.43930991990141716 / 0.29820158929318274 / 0.35525660189337327\n"
     ]
    },
    {
     "name": "stderr",
     "output_type": "stream",
     "text": [
      "100%|██████████| 20/20 [00:02<00:00,  7.56it/s]\n"
     ]
    },
    {
     "name": "stdout",
     "output_type": "stream",
     "text": [
      "Epoch 14 / 20, Loss: 1.0882, Validation loss: 0.9377, 0.43591160220994474 / 0.3299874529485571 / 0.37562485122589856\n"
     ]
    },
    {
     "name": "stderr",
     "output_type": "stream",
     "text": [
      "100%|██████████| 21/21 [00:02<00:00,  7.70it/s]\n"
     ]
    },
    {
     "name": "stdout",
     "output_type": "stream",
     "text": [
      "Epoch 15 / 20, Loss: 1.0873, Validation loss: 0.9186, 0.45465761875385563 / 0.3082392304475115 / 0.36739780658025917\n"
     ]
    },
    {
     "name": "stderr",
     "output_type": "stream",
     "text": [
      "100%|██████████| 27/27 [00:03<00:00,  7.36it/s]\n"
     ]
    },
    {
     "name": "stdout",
     "output_type": "stream",
     "text": [
      "Epoch 16 / 20, Loss: 1.0311, Validation loss: 0.9085, 0.48367459878251245 / 0.36553743203680467 / 0.41638875655073837\n"
     ]
    },
    {
     "name": "stderr",
     "output_type": "stream",
     "text": [
      "100%|██████████| 32/32 [00:05<00:00,  5.99it/s]\n"
     ]
    },
    {
     "name": "stdout",
     "output_type": "stream",
     "text": [
      "Epoch 17 / 20, Loss: 0.9704, Validation loss: 0.8542, 0.5 / 0.34044332915098285 / 0.4050758895247574\n"
     ]
    },
    {
     "name": "stderr",
     "output_type": "stream",
     "text": [
      "100%|██████████| 33/33 [00:04<00:00,  7.52it/s]\n"
     ]
    },
    {
     "name": "stdout",
     "output_type": "stream",
     "text": [
      "Epoch 18 / 20, Loss: 1.0502, Validation loss: 0.8432, 0.5151898734177215 / 0.34044332915098285 / 0.4099722991689751\n"
     ]
    },
    {
     "name": "stderr",
     "output_type": "stream",
     "text": [
      "100%|██████████| 33/33 [00:04<00:00,  7.64it/s]\n"
     ]
    },
    {
     "name": "stdout",
     "output_type": "stream",
     "text": [
      "Epoch 19 / 20, Loss: 0.9622, Validation loss: 0.8448, 0.4924958310172318 / 0.3705562526139691 / 0.42291169451073984\n"
     ]
    },
    {
     "name": "stderr",
     "output_type": "stream",
     "text": [
      "100%|██████████| 30/30 [00:03<00:00,  7.89it/s]\n"
     ]
    },
    {
     "name": "stdout",
     "output_type": "stream",
     "text": [
      "Epoch 20 / 20, Loss: 0.9802, Validation loss: 0.8327, 0.4925943621595795 / 0.43120033458803847 / 0.45985727029437995\n",
      "🏃 View run gregarious-snipe-195 at: http://127.0.0.1:5000/#/experiments/1/runs/0230b33d2287444d890eac6827b9c18c\n",
      "🧪 View experiment at: http://127.0.0.1:5000/#/experiments/1\n"
     ]
    }
   ],
   "source": [
    "import mlflow\n",
    "import mlflow.pytorch\n",
    "from transformers import AutoTokenizer, MT5ForConditionalGeneration\n",
    "\n",
    "mlflow.set_tracking_uri ('http://127.0.0.1:5000')\n",
    "mlflow.set_experiment ('Foldlearner')\n",
    "\n",
    "with mlflow.start_run ():\n",
    "    mlflow.log_params ({\n",
    "        'model_name':        USED_MODEL_NAME,\n",
    "        'seq_max_length':    SEQ_MAX_LENGTH,\n",
    "        'answer_max_length': ANSWER_MAX_LENGTH,\n",
    "        'batch_size':        BATCH_SIZE,\n",
    "        'num_splits':        NUM_OF_SPLITS,\n",
    "        'num_local_epochs':  LOCAL_NUM_EPOCHS,\n",
    "        'learning_rate':     1e-4,\n",
    "        'weight_decay':      0.01\n",
    "    })\n",
    "\n",
    "    kf = KFold (n_splits = NUM_OF_SPLITS)\n",
    "\n",
    "    data = df ['text']\n",
    "    labels = df ['label']\n",
    "\n",
    "    inc_term_set = set ([''])\n",
    "    for iteration, (train_index, test_index) in enumerate (kf.split (data)):\n",
    "        X_curr = data [test_index]\n",
    "        y_curr = labels [test_index]\n",
    "\n",
    "        train_data_lst = X_curr.tolist ()\n",
    "        train_labels_lst = y_curr.tolist ()\n",
    "        parallel_text, parallel_labels = create_parallels (train_data_lst, train_labels_lst)\n",
    "\n",
    "        parallel_text_new = parallel_text#attach_dictionary_foundings (parallel_text, inc_term_set)\n",
    "\n",
    "        train_data = tokenizer (parallel_text_new, padding = 'max_length', truncation = True, max_length = SEQ_MAX_LENGTH, return_tensors = 'pt')\n",
    "        train_labels = tokenizer (parallel_labels, padding = 'max_length', truncation = True, max_length = ANSWER_MAX_LENGTH, return_tensors = 'pt')\n",
    "        \n",
    "        if ENABLE_LABEL_FIX:\n",
    "            replaced = replace_padding (train_labels)\n",
    "            train_labels = replaced\n",
    "\n",
    "        train_dataset = Seq2SeqDataset (train_data, train_labels)\n",
    "        train_loader = DataLoader (train_dataset, batch_size = BATCH_SIZE, shuffle = True)\n",
    "\n",
    "        for epoch in range (LOCAL_NUM_EPOCHS):\n",
    "            model.train ()\n",
    "            total_loss = 0\n",
    "            \n",
    "            for batch in tqdm (train_loader):\n",
    "                \n",
    "                input_ids = batch ['input_ids'].to (model.device)\n",
    "                attention_mask = batch ['attention_mask'].to (model.device)\n",
    "                labels_fromdata = batch ['labels'].to (model.device)\n",
    "\n",
    "                outputs = model (input_ids = input_ids, attention_mask = attention_mask, labels = labels_fromdata)\n",
    "                loss = outputs.loss\n",
    "                total_loss += loss.item ()\n",
    "\n",
    "                loss.backward ()\n",
    "                optimizer.step ()\n",
    "                optimizer.zero_grad ()\n",
    "\n",
    "                torch.cuda.empty_cache ()\n",
    "            \n",
    "\n",
    "            avg_loss = total_loss / len (train_loader)\n",
    "\n",
    "            metrics ['train_loss'].append ((epoch + iteration * LOCAL_NUM_EPOCHS + num_passed_epochs, avg_loss))\n",
    "\n",
    "            model.eval ()\n",
    "            val_preds, val_labels = [], []\n",
    "            total_val_loss = 0\n",
    "\n",
    "            with torch.no_grad ():\n",
    "                for batch in val_loader:\n",
    "                    input_ids = batch ['input_ids'].to (model.device)\n",
    "                    attention_mask = batch ['attention_mask'].to (model.device)\n",
    "                    labels_fromdata = batch ['labels'].to (model.device)\n",
    "\n",
    "                    outputs = model.generate (input_ids = input_ids, attention_mask = attention_mask, max_length = SEQ_MAX_LENGTH)\n",
    "\n",
    "                    total_val_loss += model (input_ids = input_ids, attention_mask = attention_mask, labels = labels_fromdata).loss.item ()\n",
    "\n",
    "                    val_preds.extend (outputs)\n",
    "                    val_labels.extend (labels_fromdata)\n",
    "                    torch.cuda.empty_cache ()\n",
    "\n",
    "            avg_val_loss = total_val_loss / len (val_loader)\n",
    "\n",
    "            prec, recl, f1sc = sanity_check (val_preds, val_labels)\n",
    "\n",
    "            metrics ['val_loss'].append ((epoch + iteration * LOCAL_NUM_EPOCHS + num_passed_epochs, avg_val_loss))\n",
    "            metrics ['precision'].append ((epoch + iteration * LOCAL_NUM_EPOCHS + num_passed_epochs, prec))\n",
    "            metrics ['recall'].append ((epoch + iteration * LOCAL_NUM_EPOCHS + num_passed_epochs, recl))\n",
    "            metrics ['f1_score'].append ((epoch + iteration * LOCAL_NUM_EPOCHS + num_passed_epochs, f1sc))\n",
    "\n",
    "            mlflow.log_metrics ({\n",
    "                'epoch_train_loss': avg_loss,\n",
    "                'val_loss':  avg_val_loss,\n",
    "                'precision': prec,\n",
    "                'recall':    recl,\n",
    "                'f1_score':  f1sc\n",
    "            }, epoch + iteration * LOCAL_NUM_EPOCHS + num_passed_epochs)\n",
    "\n",
    "            print (f'Epoch {(epoch + 1) + iteration * LOCAL_NUM_EPOCHS + num_passed_epochs} / {NUM_OF_SPLITS * LOCAL_NUM_EPOCHS + num_passed_epochs}, Loss: {avg_loss:.4f}, Validation loss: {avg_val_loss:.4f}, {prec} / {recl} / {f1sc}')\n",
    "            \n",
    "            torch.cuda.empty_cache ()\n",
    "\n",
    "    mlflow.log_dict (metrics, 'metrics.json')"
   ]
  },
  {
   "cell_type": "code",
   "execution_count": 10,
   "id": "399f2a23",
   "metadata": {},
   "outputs": [
    {
     "name": "stdout",
     "output_type": "stream",
     "text": [
      "{'train_loss': [(0, 3.258588981628418), (1, 2.1831154425938926), (2, 2.060788732022047), (3, 1.8870851278305054), (4, 1.6849064176732844), (5, 1.3402639912522358), (6, 1.2949741625785827), (7, 1.1922168867154554), (8, 1.1451694454465593), (9, 1.1427796997807242), (10, 1.0407215325455916), (11, 1.187559195540168), (12, 1.157267349106925), (13, 1.0881805568933487), (14, 1.0872973515873863), (15, 1.031088285975986), (16, 0.9703630674630404), (17, 1.0502327554153674), (18, 0.9622425545345653), (19, 0.9801978528499603)], 'val_loss': [(0, 2.5220135688781737), (1, 2.0740102529525757), (2, 1.7959129095077515), (3, 1.56691871881485), (4, 1.3595644593238831), (5, 1.2520643591880798), (6, 1.1427536129951477), (7, 1.089127242565155), (8, 1.0526462972164154), (9, 1.0386201918125153), (10, 1.0026706993579864), (11, 0.9934927940368652), (12, 0.937807583808899), (13, 0.937746673822403), (14, 0.918605774641037), (15, 0.9085098385810852), (16, 0.8541723430156708), (17, 0.8431899189949036), (18, 0.8448311030864716), (19, 0.8326732635498046)], 'precision': [(0, 0.0033613445378151263), (1, 0.029216467463479414), (2, 0.14986853637160386), (3, 0.2749812171299775), (4, 0.35110844817255843), (5, 0.38114517061885483), (6, 0.3894952251023192), (7, 0.4171392564587272), (8, 0.42732376793512167), (9, 0.42305475504322765), (10, 0.436046511627907), (11, 0.42422596414991853), (12, 0.43930991990141716), (13, 0.43591160220994474), (14, 0.45465761875385563), (15, 0.48367459878251245), (16, 0.5), (17, 0.5151898734177215), (18, 0.4924958310172318), (19, 0.4925943621595795)], 'recall': [(0, 0.000836470096194061), (1, 0.009201171058134672), (2, 0.07151819322459223), (3, 0.15307402760351319), (4, 0.2450857381848599), (5, 0.27561689669594314), (6, 0.23881221246340442), (7, 0.27687160184023424), (8, 0.2864910079464659), (9, 0.3069845253032204), (10, 0.3136762860727729), (11, 0.32664157256378085), (12, 0.29820158929318274), (13, 0.3299874529485571), (14, 0.3082392304475115), (15, 0.36553743203680467), (16, 0.34044332915098285), (17, 0.34044332915098285), (18, 0.3705562526139691), (19, 0.43120033458803847)], 'f1_score': [(0, 0.0013395847287340924), (1, 0.013994910941475825), (2, 0.09682899207248018), (3, 0.19666845781837722), (4, 0.2886699507389163), (5, 0.31990291262135917), (6, 0.2960850401866736), (7, 0.33283056812468576), (8, 0.343014521782674), (9, 0.35579253514299564), (10, 0.36487472634395524), (11, 0.3690926275992439), (12, 0.35525660189337327), (13, 0.37562485122589856), (14, 0.36739780658025917), (15, 0.41638875655073837), (16, 0.4050758895247574), (17, 0.4099722991689751), (18, 0.42291169451073984), (19, 0.45985727029437995)]}\n"
     ]
    }
   ],
   "source": [
    "print (metrics)"
   ]
  },
  {
   "cell_type": "code",
   "execution_count": 11,
   "id": "7288d830",
   "metadata": {},
   "outputs": [
    {
     "data": {
      "image/png": "[encoded data removed]",
      "text/plain": [
       "<Figure size 1000x400 with 1 Axes>"
      ]
     },
     "metadata": {},
     "output_type": "display_data"
    },
    {
     "data": {
      "image/png": "[encoded data removed]",
      "text/plain": [
       "<Figure size 1000x400 with 1 Axes>"
      ]
     },
     "metadata": {},
     "output_type": "display_data"
    },
    {
     "data": {
      "image/png": "[encoded data removed]",
      "text/plain": [
       "<Figure size 1000x400 with 1 Axes>"
      ]
     },
     "metadata": {},
     "output_type": "display_data"
    },
    {
     "data": {
      "image/png": "[encoded data removed]",
      "text/plain": [
       "<Figure size 1000x400 with 1 Axes>"
      ]
     },
     "metadata": {},
     "output_type": "display_data"
    },
    {
     "data": {
      "image/png": "[encoded data removed]",
      "text/plain": [
       "<Figure size 1000x400 with 1 Axes>"
      ]
     },
     "metadata": {},
     "output_type": "display_data"
    }
   ],
   "source": [
    "for i, (name, history) in enumerate (sorted (metrics.items ())):\n",
    "    plt.figure (figsize = (10, 4))\n",
    "    plt.title (name)\n",
    "    plt.plot (*zip (*history))\n",
    "    plt.grid ()\n",
    "    plt.savefig (f'./images/{name}_plot.png')\n",
    "    mlflow.log_artifact (f'./images/{name}_plot.png')\n",
    "    plt.show ()\n",
    "    "
   ]
  },
  {
   "cell_type": "code",
   "execution_count": 12,
   "id": "01c523f5",
   "metadata": {},
   "outputs": [
    {
     "name": "stderr",
     "output_type": "stream",
     "text": [
      "100%|██████████| 10/10 [00:13<00:00,  1.31s/it]\n"
     ]
    },
    {
     "name": "stdout",
     "output_type": "stream",
     "text": [
      "Validation wmax:  0.45985727029437995\n"
     ]
    },
    {
     "name": "stderr",
     "output_type": "stream",
     "text": [
      "100%|██████████| 11/11 [00:13<00:00,  1.25s/it]\n"
     ]
    },
    {
     "name": "stdout",
     "output_type": "stream",
     "text": [
      "Validation wmax:  0.5012175324675325\n"
     ]
    }
   ],
   "source": [
    "\n",
    "val_preds, val_labels_fromdata = [], []\n",
    "with torch.no_grad ():\n",
    "    for batch in tqdm (val_loader):\n",
    "        input_ids = batch ['input_ids'].to (model.device)\n",
    "        attention_mask = batch ['attention_mask'].to (model.device)\n",
    "        labels = batch ['labels'].to (model.device)\n",
    "        out = model.generate (input_ids = input_ids, attention_mask = attention_mask, max_length=SEQ_MAX_LENGTH)\n",
    "\n",
    "        val_preds.extend (out)\n",
    "        val_labels_fromdata.extend (labels)\n",
    "        torch.cuda.empty_cache ()\n",
    "\n",
    "final_val_f1 = sanity_check (val_preds, val_labels_fromdata) [2]\n",
    "print ('Validation wmax: ', final_val_f1)\n",
    "\n",
    "mlflow.log_metric ('final_val_f1', final_val_f1)\n",
    "\n",
    "val_preds, val_labels_fromdata = [], []\n",
    "with torch.no_grad ():\n",
    "    for batch in tqdm (test_loader):\n",
    "        input_ids = batch ['input_ids'].to (model.device)\n",
    "        attention_mask = batch ['attention_mask'].to (model.device)\n",
    "        labels = batch ['labels'].to (model.device)\n",
    "        out = model.generate (input_ids = input_ids, attention_mask = attention_mask, max_length=SEQ_MAX_LENGTH)\n",
    "\n",
    "        val_preds.extend (out)\n",
    "        val_labels_fromdata.extend (labels)\n",
    "        torch.cuda.empty_cache ()\n",
    "\n",
    "final_test_f1 = sanity_check (val_preds, val_labels_fromdata) [2]\n",
    "print ('Validation wmax: ', final_test_f1)\n",
    "\n",
    "mlflow.log_metric ('final_test_f1', final_test_f1)\n"
   ]
  },
  {
   "cell_type": "code",
   "execution_count": null,
   "id": "5a8531b9",
   "metadata": {},
   "outputs": [],
   "source": []
  }
 ],
 "metadata": {
  "kernelspec": {
   "display_name": "Python 3",
   "language": "python",
   "name": "python3"
  },
  "language_info": {
   "codemirror_mode": {
    "name": "ipython",
    "version": 3
   },
   "file_extension": ".py",
   "mimetype": "text/x-python",
   "name": "python",
   "nbconvert_exporter": "python",
   "pygments_lexer": "ipython3",
   "version": "3.10.11"
  }
 },
 "nbformat": 4,
 "nbformat_minor": 5
}
